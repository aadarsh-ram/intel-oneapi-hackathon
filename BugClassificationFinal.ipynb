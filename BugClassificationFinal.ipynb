{
 "cells": [
  {
   "cell_type": "code",
   "execution_count": null,
   "metadata": {
    "colab": {
     "base_uri": "https://localhost:8080/"
    },
    "id": "HCje6CGyPFBi",
    "outputId": "0b70a8bd-8e41-45e3-f107-7669aa14bf8e"
   },
   "outputs": [
    {
     "name": "stdout",
     "output_type": "stream",
     "text": [
      "Cloning into 'BugReportClassificationDataset'...\n",
      "remote: Enumerating objects: 11892, done.\u001b[K\n",
      "remote: Total 11892 (delta 0), reused 0 (delta 0), pack-reused 11892\u001b[K\n",
      "Receiving objects: 100% (11892/11892), 197.41 MiB | 3.87 MiB/s, done.\n",
      "Resolving deltas: 100% (4554/4554), done.\n",
      "Updating files:  92% (15943/17273)\r"
     ]
    }
   ],
   "source": [
    "!git clone https://github.com/hideakihata/BugReportClassificationDataset.git"
   ]
  },
  {
   "cell_type": "code",
   "execution_count": null,
   "metadata": {},
   "outputs": [],
   "source": [
    "!cp -r BugReportClassificationDataset/BugReportCSV ./BugReportCSV\n",
    "!cp -r BugReportClassificationDataset/CorrectiveDataset ./CorrectiveDataset\n",
    "!rm -rf BugReportClassificationDataset"
   ]
  },
  {
   "cell_type": "code",
   "execution_count": 20,
   "metadata": {
    "colab": {
     "base_uri": "https://localhost:8080/"
    },
    "id": "PmwbmRcnRzRG",
    "outputId": "8d870e59-0f44-4aa1-c17f-56b631a5faa1"
   },
   "outputs": [
    {
     "name": "stdout",
     "output_type": "stream",
     "text": [
      "Defaulting to user installation because normal site-packages is not writeable\n",
      "Requirement already satisfied: scikit-learn-intelex in ./.local/lib/python3.9/site-packages (2023.0.1)\n",
      "Requirement already satisfied: dpcpp-cpp-rt in ./.local/lib/python3.9/site-packages (2023.0.0)\n",
      "Requirement already satisfied: xgboost in ./.local/lib/python3.9/site-packages (1.7.4)\n",
      "Requirement already satisfied: lightgbm in ./.local/lib/python3.9/site-packages (3.3.5)\n",
      "Requirement already satisfied: joblib in /glob/development-tools/versions/oneapi/2023.0.1/oneapi/tensorflow/2.10.0.0/lib/python3.9/site-packages (1.0.1)\n",
      "Requirement already satisfied: daal4py==2023.0.1 in ./.local/lib/python3.9/site-packages (from scikit-learn-intelex) (2023.0.1)\n",
      "Requirement already satisfied: scikit-learn>=0.22 in /glob/development-tools/versions/oneapi/2023.0.1/oneapi/tensorflow/2.10.0.0/lib/python3.9/site-packages (from scikit-learn-intelex) (1.1.1)\n",
      "Requirement already satisfied: numpy>=1.15 in /glob/development-tools/versions/oneapi/2023.0.1/oneapi/tensorflow/2.10.0.0/lib/python3.9/site-packages (from daal4py==2023.0.1->scikit-learn-intelex) (1.22.3)\n",
      "Requirement already satisfied: daal==2023.0.1 in ./.local/lib/python3.9/site-packages (from daal4py==2023.0.1->scikit-learn-intelex) (2023.0.1)\n",
      "Requirement already satisfied: tbb==2021.* in ./.local/lib/python3.9/site-packages (from daal==2023.0.1->daal4py==2023.0.1->scikit-learn-intelex) (2021.8.0)\n",
      "Requirement already satisfied: intel-cmplr-lib-rt==2023.0.0 in ./.local/lib/python3.9/site-packages (from dpcpp-cpp-rt) (2023.0.0)\n",
      "Requirement already satisfied: intel-cmplr-lic-rt==2023.0.0 in ./.local/lib/python3.9/site-packages (from dpcpp-cpp-rt) (2023.0.0)\n",
      "Requirement already satisfied: intel-opencl-rt==2023.0.0 in ./.local/lib/python3.9/site-packages (from dpcpp-cpp-rt) (2023.0.0)\n",
      "Requirement already satisfied: intel-openmp==2023.0.0 in ./.local/lib/python3.9/site-packages (from dpcpp-cpp-rt) (2023.0.0)\n",
      "Requirement already satisfied: scipy in /glob/development-tools/versions/oneapi/2023.0.1/oneapi/tensorflow/2.10.0.0/lib/python3.9/site-packages (from xgboost) (1.7.3)\n",
      "Requirement already satisfied: wheel in /glob/development-tools/versions/oneapi/2023.0.1/oneapi/tensorflow/2.10.0.0/lib/python3.9/site-packages (from lightgbm) (0.37.1)\n",
      "Requirement already satisfied: threadpoolctl>=2.0.0 in /glob/development-tools/versions/oneapi/2023.0.1/oneapi/tensorflow/2.10.0.0/lib/python3.9/site-packages (from scikit-learn>=0.22->scikit-learn-intelex) (2.2.0)\n",
      "Note: you may need to restart the kernel to use updated packages.\n"
     ]
    }
   ],
   "source": [
    "%pip install scikit-learn-intelex dpcpp-cpp-rt xgboost lightgbm"
   ]
  },
  {
   "cell_type": "code",
   "execution_count": 1,
   "metadata": {
    "id": "taiPn44LPDgq",
    "pycharm": {
     "name": "#%%\n"
    }
   },
   "outputs": [
    {
     "name": "stderr",
     "output_type": "stream",
     "text": [
      "2023-03-23 10:50:43.059785: I tensorflow/core/platform/cpu_feature_guard.cc:193] This TensorFlow binary is optimized with oneAPI Deep Neural Network Library (oneDNN) to use the following CPU instructions in performance-critical operations:  AVX2 AVX512F FMA\n",
      "To enable them in other operations, rebuild TensorFlow with the appropriate compiler flags.\n"
     ]
    }
   ],
   "source": [
    "import codecs\n",
    "import json\n",
    "import os\n",
    "import csv\n",
    "import time\n",
    "import warnings\n",
    "import numpy as np\n",
    "import pandas as pd\n",
    "import json\n",
    "import matplotlib.pyplot as plt\n",
    "import daal4py as d4p\n",
    "import xgboost as xgb\n",
    "import lightgbm as lgb\n",
    "import tensorflow as tf\n",
    "import pickle\n",
    "\n",
    "from tensorflow.keras import preprocessing as kprocessing\n",
    "from tensorflow.keras import models, layers, optimizers, losses, callbacks\n",
    "from tensorflow.keras.layers import Dense, Embedding, LSTM, GRU, Dropout, Flatten, Input, Activation, PReLU, LeakyReLU, ThresholdedReLU\n",
    "\n",
    "from sklearn.ensemble import RandomForestClassifier, AdaBoostClassifier\n",
    "from sklearn.linear_model import SGDClassifier, RidgeClassifier, LogisticRegression\n",
    "from sklearn.neighbors import KNeighborsClassifier\n",
    "from sklearn.svm import SVC\n",
    "from sklearn.metrics import accuracy_score, classification_report, ConfusionMatrixDisplay\n",
    "warnings.filterwarnings('ignore')\n",
    "\n",
    "from sklearn.feature_extraction.text import TfidfVectorizer\n",
    "from sklearn.feature_selection import SelectKBest, chi2\n",
    "from sklearn.model_selection import cross_val_score, train_test_split, GridSearchCV\n",
    "from sklearn.neural_network import MLPClassifier\n",
    "from sklearn.preprocessing import LabelBinarizer\n",
    "from sklearnex import patch_sklearn, unpatch_sklearn\n"
   ]
  },
  {
   "cell_type": "markdown",
   "metadata": {
    "id": "ZLSqKUXTHqkY"
   },
   "source": [
    "Data Preprocessing"
   ]
  },
  {
   "cell_type": "code",
   "execution_count": 22,
   "metadata": {
    "id": "Mjy-y3k7IOAo"
   },
   "outputs": [],
   "source": [
    "project_ids = [\"HTTPCLIENT\", \"JACKRABBIT\", \"LUCENE\"]\n",
    "\n",
    "def load_data():\n",
    "    httpclient_ids_df = pd.read_csv('./CorrectiveDataset/httpclient_classification_vs_type.csv')\n",
    "    jackrabbit_ids_df = pd.read_csv('./CorrectiveDataset/jackrabbit_classification_vs_type.csv')\n",
    "    lucene_ids_df = pd.read_csv('./CorrectiveDataset/lucene_classification_vs_type.csv')\n",
    "\n",
    "    issues_df = pd.concat([httpclient_ids_df, jackrabbit_ids_df, lucene_ids_df], ignore_index=True)\n",
    "    issues_df[\"title\"] = np.nan; issues_df[\"desc\"] = np.nan;\n",
    "\n",
    "    for id in project_ids:\n",
    "        basepath = f'./BugReportCSV/{id}/WithComment/'\n",
    "        for issue in os.listdir(basepath):\n",
    "            issue_id = issue.split('.txt')[0]\n",
    "            issue_content = open(basepath+issue, 'r', encoding='latin-1').read().split('\\n')\n",
    "            issues_df.loc[issues_df['ID'] == issue_id, ['title']] = issue_content[0]\n",
    "            issues_df.loc[issues_df['ID'] == issue_id, ['desc']] = issue_content[1]\n",
    "\n",
    "    issues_df = issues_df.dropna(subset=['title', 'desc'])\n",
    "\n",
    "    def categorize(row):\n",
    "        return 'BUG' if (row['CLASSIFIED'] == 'BUG' and row['TYPE'] == 'BUG') else 'NBUG'\n",
    "\n",
    "    issues_df['label'] = issues_df.apply(lambda row: categorize(row), axis=1)\n",
    "    return json.loads(issues_df.to_json(orient='records'))\n",
    "    # issues_df['label'].value_counts()"
   ]
  },
  {
   "cell_type": "code",
   "execution_count": 23,
   "metadata": {
    "id": "DpB959itPDgx",
    "pycharm": {
     "name": "#%%\n"
    }
   },
   "outputs": [],
   "source": [
    "boost_summary = 3\n",
    "\n",
    "def get_corpus_labels(raw_data):\n",
    "    # Corpus building.\n",
    "    corpus = []\n",
    "    labels = []\n",
    "    n_bug = 0\n",
    "    for n_file in raw_data:\n",
    "        txt = \"\"\n",
    "        for i in range(boost_summary):\n",
    "            txt += n_file[\"title\"] + \" \"\n",
    "\n",
    "        corpus.append(txt + \" \" + n_file[\"desc\"])\n",
    "        labels.append(n_file[\"label\"])\n",
    "        if n_file[\"label\"] == \"BUG\":\n",
    "            n_bug += 1\n",
    "    print(f\"{n_bug} BUG / {len(labels)} \\n\")\n",
    "    return corpus, labels"
   ]
  },
  {
   "cell_type": "code",
   "execution_count": null,
   "metadata": {
    "id": "JEEZzYKUPDgy",
    "pycharm": {
     "name": "#%%\n"
    }
   },
   "outputs": [],
   "source": [
    "def feature_computing(corpus, labels, vectorizer, feature_selection = True, k_best=50000):\n",
    "    # TF-IDF\n",
    "    print(\"Feature computing:\")\n",
    "    X = vectorizer.fit_transform(corpus)\n",
    "    print(f\"\\t{X.shape[1]} features.\")\n",
    "\n",
    "    if feature_selection:\n",
    "        print(\"Extracting %d best features by a chi-squared test\" % k_best)\n",
    "        ch2 = SelectKBest(chi2, k=k_best)\n",
    "        X = ch2.fit_transform(X, labels)\n",
    "        return X, vectorizer, ch2\n",
    "\n",
    "    return X, vectorizer"
   ]
  },
  {
   "cell_type": "code",
   "execution_count": null,
   "metadata": {
    "id": "xWhzz4QkPDgz",
    "pycharm": {
     "name": "#%%\n"
    }
   },
   "outputs": [],
   "source": [
    "def labels_binarizing(labels):\n",
    "    lb = LabelBinarizer()\n",
    "    # Binarize labels with BUG = 0 and NBUG = 1\n",
    "    labels = np.array([number[0] for number in lb.fit_transform(labels)])\n",
    "    # Inverse 0 and 1 to have good labels, i.e BUG = 1 and NBUG = 0\n",
    "    return np.logical_not(labels).astype(int)"
   ]
  },
  {
   "cell_type": "code",
   "execution_count": 14,
   "metadata": {},
   "outputs": [
    {
     "name": "stdout",
     "output_type": "stream",
     "text": [
      "1887 BUG / 5590 \n",
      "\n",
      "Feature computing.\n",
      "\t436281 features.\n",
      "Extracting 50000 best features by a chi-squared test\n"
     ]
    },
    {
     "ename": "ValueError",
     "evalue": "too many values to unpack (expected 3)",
     "output_type": "error",
     "traceback": [
      "\u001b[0;31m---------------------------------------------------------------------------\u001b[0m",
      "\u001b[0;31mValueError\u001b[0m                                Traceback (most recent call last)",
      "Cell \u001b[0;32mIn[14], line 4\u001b[0m\n\u001b[1;32m      2\u001b[0m corpus, labels \u001b[38;5;241m=\u001b[39m get_corpus_labels(raw_data)\n\u001b[1;32m      3\u001b[0m vectorizer \u001b[38;5;241m=\u001b[39m TfidfVectorizer(max_df\u001b[38;5;241m=\u001b[39m\u001b[38;5;241m0.5\u001b[39m, min_df\u001b[38;5;241m=\u001b[39m\u001b[38;5;241m2\u001b[39m, ngram_range\u001b[38;5;241m=\u001b[39m(\u001b[38;5;241m1\u001b[39m, \u001b[38;5;241m3\u001b[39m), stop_words\u001b[38;5;241m=\u001b[39m[\u001b[38;5;124m\"\u001b[39m\u001b[38;5;124menglish\u001b[39m\u001b[38;5;124m\"\u001b[39m], sublinear_tf\u001b[38;5;241m=\u001b[39m\u001b[38;5;28;01mTrue\u001b[39;00m)\n\u001b[0;32m----> 4\u001b[0m X, vectorizer, chi \u001b[38;5;241m=\u001b[39m feature_computing(corpus, labels, vectorizer, feature_selection\u001b[38;5;241m=\u001b[39m\u001b[38;5;28;01mTrue\u001b[39;00m)\n\u001b[1;32m      5\u001b[0m pickle\u001b[38;5;241m.\u001b[39mdump(chi, \u001b[38;5;28mopen\u001b[39m(\u001b[38;5;124m\"\u001b[39m\u001b[38;5;124mselector.pkl\u001b[39m\u001b[38;5;124m\"\u001b[39m,\u001b[38;5;124m\"\u001b[39m\u001b[38;5;124mwb\u001b[39m\u001b[38;5;124m\"\u001b[39m))\n\u001b[1;32m      6\u001b[0m binarized_labels \u001b[38;5;241m=\u001b[39m labels_binarizing(labels)\n",
      "\u001b[0;31mValueError\u001b[0m: too many values to unpack (expected 3)"
     ]
    }
   ],
   "source": [
    "raw_data = load_data()\n",
    "corpus, labels = get_corpus_labels(raw_data)\n",
    "vectorizer = TfidfVectorizer(max_df=0.5, min_df=2, ngram_range=(1, 3), stop_words=[\"english\"], sublinear_tf=True)\n",
    "X, vectorizer, chi = feature_computing(corpus, labels, vectorizer, feature_selection=True)\n",
    "# Uncomment to save selector and vectorizer\n",
    "# pickle.dump(chi, open(\"selector.pkl\",\"wb\"))\n",
    "# pickle.dump(vectorizer, open(\"vectorizer.pkl\",\"wb\"))\n",
    "binarized_labels = labels_binarizing(labels)"
   ]
  },
  {
   "cell_type": "code",
   "execution_count": 27,
   "metadata": {},
   "outputs": [],
   "source": [
    "X_train, X_test, y_train, y_test = train_test_split(X, binarized_labels, test_size=0.3)"
   ]
  },
  {
   "cell_type": "markdown",
   "metadata": {
    "id": "m9xq9NCrPDg0",
    "pycharm": {
     "name": "#%% md\n"
    }
   },
   "source": [
    "### Multilayer Perceptron"
   ]
  },
  {
   "cell_type": "code",
   "execution_count": 34,
   "metadata": {
    "id": "9zaa6xTmPDg1",
    "pycharm": {
     "name": "#%%\n"
    }
   },
   "outputs": [],
   "source": [
    "def score_multilayer_perceptron_optimized(X_train, X_test, y_train, y_test):\n",
    "    patch_sklearn()\n",
    "    \n",
    "    mlp = MLPClassifier(activation='tanh', learning_rate='adaptive', max_iter=20, random_state=0)\n",
    "    print(\"=====> Scoring MLP <=====\")\n",
    "    t_start = time.time()\n",
    "    mlp.fit(X_train, y_train)\n",
    "    t_end = time.time()\n",
    "    \n",
    "    fit_time = t_end - t_start\n",
    "    \n",
    "    t_start = time.time()\n",
    "    preds = mlp.predict(X_test)\n",
    "    t_end = time.time()\n",
    "    \n",
    "    pred_time = t_end - t_start\n",
    "    \n",
    "    print (\"Time:\", pred_time + fit_time)\n",
    "    print (classification_report(y_test, preds, digits=4\n",
    "    \n",
    "    # Uncomment to save model\n",
    "#     with open('mlp.pkl', 'wb') as f:\n",
    "#         pickle.dump(mlp, f)\n",
    "    \n",
    "    ConfusionMatrixDisplay.from_predictions(y_test, preds)\n",
    "    plt.show()"
   ]
  },
  {
   "cell_type": "code",
   "execution_count": 35,
   "metadata": {},
   "outputs": [],
   "source": [
    "def score_multilayer_perceptron_unoptimized(X_train, X_test, y_train, y_test):\n",
    "    unpatch_sklearn()\n",
    "    \n",
    "    mlp = MLPClassifier(activation='tanh', learning_rate='adaptive', max_iter=20, random_state=0)\n",
    "    print(\"=====> Scoring MLP <=====\")\n",
    "    t_start = time.time()\n",
    "    mlp.fit(X_train, y_train)\n",
    "    t_end = time.time()\n",
    "    \n",
    "    fit_time = t_end - t_start\n",
    "    \n",
    "    t_start = time.time()\n",
    "    preds = mlp.predict(X_test)\n",
    "    t_end = time.time()\n",
    "    \n",
    "    pred_time = t_end - t_start\n",
    "    \n",
    "    print (\"Time:\", pred_time + fit_time)\n",
    "    print (classification_report(y_test, preds, digits=4))\n",
    "    ConfusionMatrixDisplay.from_predictions(y_test, preds)\n",
    "    plt.show()"
   ]
  },
  {
   "cell_type": "code",
   "execution_count": 36,
   "metadata": {
    "colab": {
     "base_uri": "https://localhost:8080/"
    },
    "id": "GPPQFoSpPDg1",
    "outputId": "e6034bfc-8571-493e-f056-ec79b0295949",
    "pycharm": {
     "name": "#%%\n"
    }
   },
   "outputs": [
    {
     "name": "stdout",
     "output_type": "stream",
     "text": [
      "=====> Scoring MLP <=====\n",
      "Time: 37.743436098098755\n",
      "              precision    recall  f1-score   support\n",
      "\n",
      "           0     0.8871    0.9741    0.9286      1121\n",
      "           1     0.9350    0.7500    0.8323       556\n",
      "\n",
      "    accuracy                         0.8998      1677\n",
      "   macro avg     0.9110    0.8621    0.8805      1677\n",
      "weighted avg     0.9030    0.8998    0.8967      1677\n",
      "\n"
     ]
    },
    {
     "data": {
      "image/png": "[encoded data removed]",
      "text/plain": [
       "<Figure size 640x480 with 2 Axes>"
      ]
     },
     "metadata": {},
     "output_type": "display_data"
    }
   ],
   "source": [
    "score_multilayer_perceptron_unoptimized(X_train, X_test, y_train, y_test)"
   ]
  },
  {
   "cell_type": "code",
   "execution_count": 39,
   "metadata": {},
   "outputs": [
    {
     "name": "stderr",
     "output_type": "stream",
     "text": [
      "Intel(R) Extension for Scikit-learn* enabled (https://github.com/intel/scikit-learn-intelex)\n"
     ]
    },
    {
     "name": "stdout",
     "output_type": "stream",
     "text": [
      "=====> Scoring MLP <=====\n",
      "Time: 36.92686891555786\n",
      "              precision    recall  f1-score   support\n",
      "\n",
      "           0     0.8871    0.9741    0.9286      1121\n",
      "           1     0.9350    0.7500    0.8323       556\n",
      "\n",
      "    accuracy                         0.8998      1677\n",
      "   macro avg     0.9110    0.8621    0.8805      1677\n",
      "weighted avg     0.9030    0.8998    0.8967      1677\n",
      "\n"
     ]
    },
    {
     "data": {
      "image/png": "[encoded data removed]",
      "text/plain": [
       "<Figure size 640x480 with 2 Axes>"
      ]
     },
     "metadata": {},
     "output_type": "display_data"
    }
   ],
   "source": [
    "score_multilayer_perceptron_optimized(X_train, X_test, y_train, y_test)"
   ]
  },
  {
   "cell_type": "markdown",
   "metadata": {
    "id": "RMnZsRbJPDg3"
   },
   "source": [
    "### SVM"
   ]
  },
  {
   "cell_type": "code",
   "execution_count": 15,
   "metadata": {
    "id": "2MgkYgD9PDg4",
    "pycharm": {
     "name": "#%%\n"
    }
   },
   "outputs": [],
   "source": [
    "def score_svm_unoptimized(X_train, X_test, y_train, y_test):\n",
    "    unpatch_sklearn()\n",
    "    svm = SVC(C=100, gamma='scale')\n",
    "    \n",
    "    print(\"=====> Scoring SVM <=====\")\n",
    "    t_start = time.time()\n",
    "    svm.fit(X_train, y_train)\n",
    "    t_end = time.time()\n",
    "    \n",
    "    fit_time = t_end - t_start\n",
    "    \n",
    "    t_start = time.time()\n",
    "    preds = svm.predict(X_test)\n",
    "    t_end = time.time()\n",
    "    \n",
    "    pred_time = t_end - t_start\n",
    "    \n",
    "    print (\"Time:\", pred_time + fit_time)\n",
    "    print (classification_report(y_test, preds, digits=4))\n",
    "    ConfusionMatrixDisplay.from_predictions(y_test, preds)\n",
    "    plt.show()"
   ]
  },
  {
   "cell_type": "code",
   "execution_count": 16,
   "metadata": {},
   "outputs": [],
   "source": [
    "def score_svm_optimized(X_train, X_test, y_train, y_test):\n",
    "    patch_sklearn()\n",
    "    svm = SVC(C=100, gamma='scale')\n",
    "    \n",
    "    print(\"=====> Scoring SVM <=====\")\n",
    "    t_start = time.time()\n",
    "    svm.fit(X_train, y_train)\n",
    "    t_end = time.time()\n",
    "    \n",
    "    fit_time = t_end - t_start\n",
    "    \n",
    "    t_start = time.time()\n",
    "    preds = svm.predict(X_test)\n",
    "    t_end = time.time()\n",
    "    \n",
    "    pred_time = t_end - t_start\n",
    "    \n",
    "    print (\"Time:\", pred_time + fit_time)\n",
    "    print (classification_report(y_test, preds, digits=4))\n",
    "    ConfusionMatrixDisplay.from_predictions(y_test, preds)\n",
    "    plt.show()"
   ]
  },
  {
   "cell_type": "code",
   "execution_count": 17,
   "metadata": {
    "colab": {
     "base_uri": "https://localhost:8080/"
    },
    "id": "rr7V-cogPDg4",
    "outputId": "e16351a4-fe39-4ae3-dff8-1d220bbf9a64",
    "pycharm": {
     "name": "#%%\n"
    }
   },
   "outputs": [
    {
     "name": "stdout",
     "output_type": "stream",
     "text": [
      "=====> Scoring SVM <=====\n",
      "Time: 19.43800950050354\n",
      "              precision    recall  f1-score   support\n",
      "\n",
      "           0     0.9166    0.9256    0.9211      1116\n",
      "           1     0.8491    0.8324    0.8407       561\n",
      "\n",
      "    accuracy                         0.8945      1677\n",
      "   macro avg     0.8828    0.8790    0.8809      1677\n",
      "weighted avg     0.8940    0.8945    0.8942      1677\n",
      "\n"
     ]
    },
    {
     "data": {
      "image/png": "[encoded data removed]",
      "text/plain": [
       "<Figure size 640x480 with 2 Axes>"
      ]
     },
     "metadata": {},
     "output_type": "display_data"
    }
   ],
   "source": [
    "score_svm_unoptimized(X_train, X_test, y_train, y_test)"
   ]
  },
  {
   "cell_type": "code",
   "execution_count": 18,
   "metadata": {},
   "outputs": [
    {
     "name": "stdout",
     "output_type": "stream",
     "text": [
      "=====> Scoring SVM <=====\n"
     ]
    },
    {
     "name": "stderr",
     "output_type": "stream",
     "text": [
      "Intel(R) Extension for Scikit-learn* enabled (https://github.com/intel/scikit-learn-intelex)\n"
     ]
    },
    {
     "name": "stdout",
     "output_type": "stream",
     "text": [
      "Time: 19.390804767608643\n",
      "              precision    recall  f1-score   support\n",
      "\n",
      "           0     0.9166    0.9256    0.9211      1116\n",
      "           1     0.8491    0.8324    0.8407       561\n",
      "\n",
      "    accuracy                         0.8945      1677\n",
      "   macro avg     0.8828    0.8790    0.8809      1677\n",
      "weighted avg     0.8940    0.8945    0.8942      1677\n",
      "\n"
     ]
    },
    {
     "data": {
      "image/png": "[encoded data removed]",
      "text/plain": [
       "<Figure size 640x480 with 2 Axes>"
      ]
     },
     "metadata": {},
     "output_type": "display_data"
    }
   ],
   "source": [
    "score_svm_optimized(X_train, X_test, y_train, y_test)"
   ]
  },
  {
   "cell_type": "markdown",
   "metadata": {
    "id": "e4I-mLRmPDg2"
   },
   "source": [
    "### Stochastic Gradient Descent"
   ]
  },
  {
   "cell_type": "code",
   "execution_count": 22,
   "metadata": {
    "id": "gLGYowaRPDg2",
    "pycharm": {
     "name": "#%%\n"
    }
   },
   "outputs": [],
   "source": [
    "def score_sgd_optimized(X_train, X_test, y_train, y_test):\n",
    "    patch_sklearn()\n",
    "    sgd = SGDClassifier(random_state=0, loss='modified_huber', max_iter=10000)\n",
    "\n",
    "    print(\"=====> Scoring SGD <=====\")\n",
    "    t_start = time.time()\n",
    "    sgd.fit(X_train, y_train)\n",
    "    t_end = time.time()\n",
    "    \n",
    "    fit_time = t_end - t_start\n",
    "    \n",
    "    t_start = time.time()\n",
    "    preds = sgd.predict(X_test)\n",
    "    t_end = time.time()\n",
    "    \n",
    "    pred_time = t_end - t_start\n",
    "    \n",
    "    print (\"Time:\", pred_time + fit_time)\n",
    "    print (classification_report(y_test, preds, digits=4))\n",
    "    ConfusionMatrixDisplay.from_predictions(y_test, preds)\n",
    "    plt.show()"
   ]
  },
  {
   "cell_type": "code",
   "execution_count": 23,
   "metadata": {},
   "outputs": [],
   "source": [
    "def score_sgd_unoptimized(X_train, X_test, y_train, y_test):\n",
    "    unpatch_sklearn()\n",
    "    sgd = SGDClassifier(random_state=0, loss='modified_huber', max_iter=10000)\n",
    "\n",
    "    print(\"=====> Scoring SGD <=====\")\n",
    "    t_start = time.time()\n",
    "    sgd.fit(X_train, y_train)\n",
    "    t_end = time.time()\n",
    "    \n",
    "    fit_time = t_end - t_start\n",
    "    \n",
    "    t_start = time.time()\n",
    "    preds = sgd.predict(X_test)\n",
    "    t_end = time.time()\n",
    "    \n",
    "    pred_time = t_end - t_start\n",
    "    \n",
    "    print (\"Time:\", pred_time + fit_time)\n",
    "    print (classification_report(y_test, preds, digits=4))\n",
    "    ConfusionMatrixDisplay.from_predictions(y_test, preds)\n",
    "    plt.show()"
   ]
  },
  {
   "cell_type": "code",
   "execution_count": 39,
   "metadata": {
    "colab": {
     "base_uri": "https://localhost:8080/"
    },
    "id": "70lrZe4QPDg3",
    "outputId": "5ef580c9-0ada-499f-e42d-51bb14ca6450",
    "pycharm": {
     "name": "#%%\n"
    }
   },
   "outputs": [
    {
     "name": "stdout",
     "output_type": "stream",
     "text": [
      "=====> Scoring SGD <=====\n",
      "Time: 0.04142189025878906\n",
      "              precision    recall  f1-score   support\n",
      "\n",
      "           0     0.8826    0.9498    0.9150      1116\n",
      "           1     0.8824    0.7487    0.8100       561\n",
      "\n",
      "    accuracy                         0.8825      1677\n",
      "   macro avg     0.8825    0.8492    0.8625      1677\n",
      "weighted avg     0.8825    0.8825    0.8799      1677\n",
      "\n"
     ]
    },
    {
     "data": {
      "image/png": "[encoded data removed]",
      "text/plain": [
       "<Figure size 640x480 with 2 Axes>"
      ]
     },
     "metadata": {},
     "output_type": "display_data"
    }
   ],
   "source": [
    "score_sgd_unoptimized(X_train, X_test, y_train, y_test)"
   ]
  },
  {
   "cell_type": "code",
   "execution_count": 43,
   "metadata": {},
   "outputs": [
    {
     "name": "stdout",
     "output_type": "stream",
     "text": [
      "=====> Scoring SGD <=====\n",
      "Time: 0.02962636947631836\n",
      "              precision    recall  f1-score   support\n",
      "\n",
      "           0     0.8826    0.9498    0.9150      1116\n",
      "           1     0.8824    0.7487    0.8100       561\n",
      "\n",
      "    accuracy                         0.8825      1677\n",
      "   macro avg     0.8825    0.8492    0.8625      1677\n",
      "weighted avg     0.8825    0.8825    0.8799      1677\n",
      "\n"
     ]
    },
    {
     "name": "stderr",
     "output_type": "stream",
     "text": [
      "Intel(R) Extension for Scikit-learn* enabled (https://github.com/intel/scikit-learn-intelex)\n"
     ]
    },
    {
     "data": {
      "image/png": "[encoded data removed]",
      "text/plain": [
       "<Figure size 640x480 with 2 Axes>"
      ]
     },
     "metadata": {},
     "output_type": "display_data"
    }
   ],
   "source": [
    "score_sgd_optimized(X_train, X_test, y_train, y_test)"
   ]
  },
  {
   "cell_type": "markdown",
   "metadata": {
    "id": "OqTgcgCDHz2c"
   },
   "source": [
    "### LightGBM"
   ]
  },
  {
   "cell_type": "code",
   "execution_count": 49,
   "metadata": {
    "id": "jZtgEdxCHz2v"
   },
   "outputs": [],
   "source": [
    "def score_lightgbm_optimized(X_train, X_test, y_train, y_test):\n",
    "    patch_sklearn()\n",
    "    clf = lgb.LGBMClassifier()\n",
    "    \n",
    "    print(\"=====> Scoring LightGBM <=====\")\n",
    "    t_start = time.time()\n",
    "    clf.fit(X_train, y_train)\n",
    "    t_end = time.time()\n",
    "    \n",
    "    fit_time = t_end - t_start\n",
    "    \n",
    "    t_start = time.time()\n",
    "    preds = clf.predict(X_test)\n",
    "    t_end = time.time()\n",
    "    \n",
    "    pred_time = t_end - t_start\n",
    "    \n",
    "    print (\"Time:\", pred_time + fit_time)\n",
    "    print (classification_report(y_test, preds, digits=4))\n",
    "    ConfusionMatrixDisplay.from_predictions(y_test, preds)\n",
    "    plt.show()"
   ]
  },
  {
   "cell_type": "code",
   "execution_count": 50,
   "metadata": {},
   "outputs": [],
   "source": [
    "def score_lightgbm_unoptimized(X_train, X_test, y_train, y_test):\n",
    "    unpatch_sklearn()\n",
    "    clf = lgb.LGBMClassifier()\n",
    "    \n",
    "    print(\"=====> Scoring LightGBM <=====\")\n",
    "    t_start = time.time()\n",
    "    clf.fit(X_train, y_train)\n",
    "    t_end = time.time()\n",
    "    \n",
    "    fit_time = t_end - t_start\n",
    "    \n",
    "    t_start = time.time()\n",
    "    preds = clf.predict(X_test)\n",
    "    t_end = time.time()\n",
    "    \n",
    "    pred_time = t_end - t_start\n",
    "    \n",
    "    print (\"Time:\", pred_time + fit_time)\n",
    "    print (classification_report(y_test, preds, digits=4))\n",
    "    ConfusionMatrixDisplay.from_predictions(y_test, preds)\n",
    "    plt.show()"
   ]
  },
  {
   "cell_type": "code",
   "execution_count": 51,
   "metadata": {
    "colab": {
     "base_uri": "https://localhost:8080/"
    },
    "id": "MP56XZSBHz2v",
    "outputId": "4614c6e0-61db-49fe-bec5-7929d0a59c70"
   },
   "outputs": [
    {
     "name": "stdout",
     "output_type": "stream",
     "text": [
      "=====> Scoring LightGBM <=====\n",
      "Time: 3.750791549682617\n",
      "              precision    recall  f1-score   support\n",
      "\n",
      "           0     0.8661    0.8987    0.8821      1116\n",
      "           1     0.7823    0.7237    0.7519       561\n",
      "\n",
      "    accuracy                         0.8402      1677\n",
      "   macro avg     0.8242    0.8112    0.8170      1677\n",
      "weighted avg     0.8381    0.8402    0.8386      1677\n",
      "\n"
     ]
    },
    {
     "data": {
      "image/png": "[encoded data removed]",
      "text/plain": [
       "<Figure size 640x480 with 2 Axes>"
      ]
     },
     "metadata": {},
     "output_type": "display_data"
    }
   ],
   "source": [
    "score_lightgbm_unoptimized(X_train, X_test, y_train, y_test)"
   ]
  },
  {
   "cell_type": "code",
   "execution_count": 52,
   "metadata": {},
   "outputs": [
    {
     "name": "stderr",
     "output_type": "stream",
     "text": [
      "Intel(R) Extension for Scikit-learn* enabled (https://github.com/intel/scikit-learn-intelex)\n"
     ]
    },
    {
     "name": "stdout",
     "output_type": "stream",
     "text": [
      "=====> Scoring LightGBM <=====\n",
      "Time: 3.486720323562622\n",
      "              precision    recall  f1-score   support\n",
      "\n",
      "           0     0.8661    0.8987    0.8821      1116\n",
      "           1     0.7823    0.7237    0.7519       561\n",
      "\n",
      "    accuracy                         0.8402      1677\n",
      "   macro avg     0.8242    0.8112    0.8170      1677\n",
      "weighted avg     0.8381    0.8402    0.8386      1677\n",
      "\n"
     ]
    },
    {
     "data": {
      "image/png": "[encoded data removed]",
      "text/plain": [
       "<Figure size 640x480 with 2 Axes>"
      ]
     },
     "metadata": {},
     "output_type": "display_data"
    }
   ],
   "source": [
    "score_lightgbm_optimized(X_train, X_test, y_train, y_test)"
   ]
  },
  {
   "cell_type": "markdown",
   "metadata": {
    "id": "aj4OGHmoiaCt"
   },
   "source": [
    "### Logistic Regression"
   ]
  },
  {
   "cell_type": "code",
   "execution_count": 8,
   "metadata": {
    "colab": {
     "base_uri": "https://localhost:8080/"
    },
    "id": "nvaj2n0nie_Z",
    "outputId": "ba73d8de-b8c3-45f8-b34a-b9a1744aae75"
   },
   "outputs": [],
   "source": [
    "def score_logisreg_optimized(X_train, X_test, y_train, y_test):\n",
    "    patch_sklearn()\n",
    "    lreg = LogisticRegression(random_state=0, max_iter=10000)\n",
    "    \n",
    "    print(\"=====> Scoring Logistic Regression <=====\")\n",
    "    t_start = time.time()\n",
    "    lreg.fit(X_train, y_train)\n",
    "    t_end = time.time()\n",
    "    \n",
    "    fit_time = t_end - t_start\n",
    "    \n",
    "    t_start = time.time()\n",
    "    preds = lreg.predict(X_test)\n",
    "    t_end = time.time()\n",
    "    \n",
    "    pred_time = t_end - t_start\n",
    "    \n",
    "    print (\"Time:\", pred_time + fit_time)\n",
    "    print (classification_report(y_test, preds, digits=4))\n",
    "    ConfusionMatrixDisplay.from_predictions(y_test, preds)\n",
    "    plt.show()"
   ]
  },
  {
   "cell_type": "code",
   "execution_count": 9,
   "metadata": {},
   "outputs": [],
   "source": [
    "def score_logisreg_unoptimized(X_train, X_test, y_train, y_test):\n",
    "    unpatch_sklearn()\n",
    "    lreg = LogisticRegression(random_state=0, max_iter=10000)\n",
    "    \n",
    "    print(\"=====> Scoring Logistic Regression <=====\")\n",
    "    t_start = time.time()\n",
    "    lreg.fit(X_train, y_train)\n",
    "    t_end = time.time()\n",
    "    \n",
    "    fit_time = t_end - t_start\n",
    "    \n",
    "    t_start = time.time()\n",
    "    preds = lreg.predict(X_test)\n",
    "    t_end = time.time()\n",
    "    \n",
    "    pred_time = t_end - t_start\n",
    "    \n",
    "    print (\"Time:\", pred_time + fit_time)\n",
    "    print (classification_report(y_test, preds, digits=4))\n",
    "    ConfusionMatrixDisplay.from_predictions(y_test, preds)\n",
    "    plt.show()"
   ]
  },
  {
   "cell_type": "code",
   "execution_count": 10,
   "metadata": {},
   "outputs": [
    {
     "name": "stdout",
     "output_type": "stream",
     "text": [
      "=====> Scoring Logistic Regression <=====\n",
      "Time: 0.5433769226074219\n",
      "              precision    recall  f1-score   support\n",
      "\n",
      "           0     0.7567    0.9649    0.8482      1083\n",
      "           1     0.8716    0.4343    0.5798       594\n",
      "\n",
      "    accuracy                         0.7770      1677\n",
      "   macro avg     0.8142    0.6996    0.7140      1677\n",
      "weighted avg     0.7974    0.7770    0.7531      1677\n",
      "\n"
     ]
    },
    {
     "data": {
      "image/png": "[encoded data removed]",
      "text/plain": [
       "<Figure size 640x480 with 2 Axes>"
      ]
     },
     "metadata": {},
     "output_type": "display_data"
    }
   ],
   "source": [
    "score_logisreg_unoptimized(X_train, X_test, y_train, y_test)"
   ]
  },
  {
   "cell_type": "code",
   "execution_count": 14,
   "metadata": {},
   "outputs": [
    {
     "name": "stderr",
     "output_type": "stream",
     "text": [
      "Intel(R) Extension for Scikit-learn* enabled (https://github.com/intel/scikit-learn-intelex)\n"
     ]
    },
    {
     "name": "stdout",
     "output_type": "stream",
     "text": [
      "=====> Scoring Logistic Regression <=====\n",
      "Time: 0.3911004066467285\n",
      "              precision    recall  f1-score   support\n",
      "\n",
      "           0     0.7567    0.9649    0.8482      1083\n",
      "           1     0.8716    0.4343    0.5798       594\n",
      "\n",
      "    accuracy                         0.7770      1677\n",
      "   macro avg     0.8142    0.6996    0.7140      1677\n",
      "weighted avg     0.7974    0.7770    0.7531      1677\n",
      "\n"
     ]
    },
    {
     "data": {
      "image/png": "[encoded data removed]",
      "text/plain": [
       "<Figure size 640x480 with 2 Axes>"
      ]
     },
     "metadata": {},
     "output_type": "display_data"
    }
   ],
   "source": [
    "score_logisreg_optimized(X_train, X_test, y_train, y_test)"
   ]
  },
  {
   "cell_type": "markdown",
   "metadata": {
    "id": "vtAz7OHEWX9S"
   },
   "source": [
    "### XGBoost"
   ]
  },
  {
   "cell_type": "code",
   "execution_count": 15,
   "metadata": {
    "id": "ErXTBfiAWlYO"
   },
   "outputs": [],
   "source": [
    "def score_xgboost(X_train, X_test, y_train, y_test):\n",
    "    patch_sklearn()\n",
    "    print(\"=====> Scoring XGBoost <=====\")\n",
    "\n",
    "    train_algo = d4p.gbt_classification_training(\n",
    "        nClasses=2,\n",
    "        featuresPerNode=50000\n",
    "    )\n",
    "    train_res = train_algo.compute(X_train, y_train)\n",
    "    predict_algo = d4p.gbt_classification_prediction(\n",
    "        nClasses=2,\n",
    "        resultsToEvaluate=\"computeClassLabels|computeClassProbabilities\"\n",
    "    )\n",
    "    predict_result = predict_algo.compute(X_test, train_res.model)\n",
    "    print (classification_report(y_test, predict_result.prediction))    \n",
    "    ConfusionMatrixDisplay.from_predictions(y_test, predict_result.prediction)\n",
    "    plt.show()\n"
   ]
  },
  {
   "cell_type": "code",
   "execution_count": 16,
   "metadata": {
    "colab": {
     "base_uri": "https://localhost:8080/",
     "height": 685
    },
    "id": "cSgFS7AhY2My",
    "outputId": "c61bf1c9-a3ed-4842-8e6f-92310ea2948a"
   },
   "outputs": [
    {
     "name": "stdout",
     "output_type": "stream",
     "text": [
      "(3913, 50000) (1677, 50000) (3913, 1) (1677, 1)\n",
      "=====> Scoring XGBoost <=====\n"
     ]
    },
    {
     "name": "stderr",
     "output_type": "stream",
     "text": [
      "Intel(R) Extension for Scikit-learn* enabled (https://github.com/intel/scikit-learn-intelex)\n"
     ]
    },
    {
     "name": "stdout",
     "output_type": "stream",
     "text": [
      "              precision    recall  f1-score   support\n",
      "\n",
      "           0       0.83      0.90      0.86      1083\n",
      "           1       0.78      0.65      0.71       594\n",
      "\n",
      "    accuracy                           0.81      1677\n",
      "   macro avg       0.80      0.78      0.79      1677\n",
      "weighted avg       0.81      0.81      0.81      1677\n",
      "\n"
     ]
    },
    {
     "data": {
      "image/png": "[encoded data removed]",
      "text/plain": [
       "<Figure size 640x480 with 2 Axes>"
      ]
     },
     "metadata": {},
     "output_type": "display_data"
    }
   ],
   "source": [
    "y_train = y_train.reshape(-1, 1)\n",
    "y_test = y_test.reshape(-1, 1)\n",
    "\n",
    "print (X_train.shape, X_test.shape, y_train.shape, y_test.shape)\n",
    "score_xgboost(X_train, X_test, y_train, y_test)"
   ]
  },
  {
   "cell_type": "markdown",
   "metadata": {
    "id": "zZfXnEdSwIQ1"
   },
   "source": [
    "### Model Test"
   ]
  },
  {
   "cell_type": "code",
   "execution_count": null,
   "metadata": {
    "id": "ph4T6pjZwKI5"
   },
   "outputs": [],
   "source": [
    "def build_tfidf_model(features, labels, optimizer, activations, drop_rate, lr, layer1_size, layer2_size=None, layer3_size=None, layer4_size=None):\n",
    "    \n",
    "    model = models.Sequential()\n",
    "    model.add(Input(shape=[features.shape[1]], name=\"TFIDF_Features\"))\n",
    "    model.add(Dense(layer1_size, input_shape=[features.shape[1]]))\n",
    "    \n",
    "    if activations[0] == \"leaky\":\n",
    "        model.add(LeakyReLU())\n",
    "    elif activations[0] == \"prelu\":\n",
    "        model.add(PReLU())\n",
    "    else:\n",
    "        model.add(Activation(activations[0]))     \n",
    "        \n",
    "    if layer2_size:\n",
    "        model.add(Dropout(drop_rate, trainable=True))\n",
    "        model.add(Dense(layer2_size))\n",
    "        \n",
    "        if activations[1] == \"leaky\":\n",
    "            model.add(LeakyReLU())\n",
    "        elif activations[0] == \"prelu\":\n",
    "            model.add(PReLU())\n",
    "        else:\n",
    "            model.add(Activation(activations[1]))      \n",
    "            \n",
    "            \n",
    "    if layer3_size:\n",
    "        model.add(Dropout(drop_rate, trainable=True))\n",
    "        model.add(Dense(layer3_size))\n",
    "        \n",
    "        if activations[2] == \"leaky\":\n",
    "            model.add(LeakyReLU())\n",
    "        elif activations[0] == \"prelu\":\n",
    "            model.add(PReLU())\n",
    "        else:\n",
    "            model.add(Activation(activations[2]))   \n",
    "            \n",
    "            \n",
    "    if layer4_size:\n",
    "        model.add(Dropout(drop_rate, trainable=True))\n",
    "        model.add(Dense(layer4_size))\n",
    "        \n",
    "        if activations[3] == \"leaky\":\n",
    "            model.add(LeakyReLU())\n",
    "        elif activations[0] == \"prelu\":\n",
    "            model.add(PReLU())\n",
    "        else:\n",
    "            model.add(Activation(activations[3]))\n",
    "            \n",
    "            \n",
    "    model.add(Dropout(drop_rate, trainable=True))\n",
    "    model.add(Dense(1, activation='sigmoid'))\n",
    "    \n",
    "    # Parameters\n",
    "    if optimizer == 'adam':\n",
    "        optimizer = tf.keras.optimizers.Adam(lr)\n",
    "    elif optimizer == 'adamax':\n",
    "        optimizer = tf.keras.optimizers.Adamax() # Use default learning rate for adamax\n",
    "    elif optimizer == 'nadam':\n",
    "        optimizer = tf.keras.optimizers.Nadam(lr)\n",
    "    elif optimizer == 'rmsprop':\n",
    "        optimizer = tf.keras.optimizers.RMSprop(lr )\n",
    "    else:\n",
    "        print(\"ERROR: No valid optimizer passed\")\n",
    "        return None\n",
    "    \n",
    "    \n",
    "    model.compile(loss='binary_crossentropy',\n",
    "                optimizer=optimizer,\n",
    "                metrics=['accuracy'])\n",
    "    \n",
    "\n",
    "    return model"
   ]
  },
  {
   "cell_type": "code",
   "execution_count": null,
   "metadata": {
    "colab": {
     "base_uri": "https://localhost:8080/"
    },
    "id": "FnMSgc6VzI12",
    "outputId": "22cd735a-fe6b-45ad-a6dd-7f925fa54976"
   },
   "outputs": [
    {
     "name": "stdout",
     "output_type": "stream",
     "text": [
      "Epoch 1/10\n",
      "172/172 [==============================] - 45s 257ms/step - loss: 0.5829 - accuracy: 0.6846 - val_loss: 0.4336 - val_accuracy: 0.8186\n",
      "Epoch 2/10\n",
      "172/172 [==============================] - 43s 251ms/step - loss: 0.1975 - accuracy: 0.9354 - val_loss: 0.2753 - val_accuracy: 0.8969\n",
      "Epoch 3/10\n",
      "172/172 [==============================] - 45s 260ms/step - loss: 0.0180 - accuracy: 0.9971 - val_loss: 0.3520 - val_accuracy: 0.8773\n",
      "Epoch 4/10\n",
      "172/172 [==============================] - 43s 248ms/step - loss: 0.0021 - accuracy: 1.0000 - val_loss: 0.3967 - val_accuracy: 0.8756\n",
      "Epoch 5/10\n",
      "172/172 [==============================] - 44s 254ms/step - loss: 9.5669e-04 - accuracy: 1.0000 - val_loss: 0.4183 - val_accuracy: 0.8816\n",
      "Epoch 6/10\n",
      "172/172 [==============================] - 45s 260ms/step - loss: 5.1819e-04 - accuracy: 1.0000 - val_loss: 0.4385 - val_accuracy: 0.8816\n",
      "Epoch 7/10\n",
      "172/172 [==============================] - 45s 262ms/step - loss: 3.1954e-04 - accuracy: 1.0000 - val_loss: 0.4688 - val_accuracy: 0.8807\n",
      "Epoch 8/10\n",
      "158/172 [==========================>...] - ETA: 3s - loss: 2.1759e-04 - accuracy: 1.0000"
     ]
    }
   ],
   "source": [
    "# Construct the model itself:\n",
    "assignment_model = build_tfidf_model(features = X_train, \n",
    "                                     labels = y_train, \n",
    "                                     optimizer = 'adam',\n",
    "                                     activations = ['prelu', 'prelu', 'prelu', 'prelu'],\n",
    "                                     drop_rate=0.3,\n",
    "                                     lr=0.0001,\n",
    "                                     layer1_size = 2048,\n",
    "                                     layer2_size= 512, \n",
    "                                     layer3_size= 256,\n",
    "                                     layer4_size= 128)\n",
    "# assignment_model.summary()\n",
    "history_tfidf = assignment_model.fit(\n",
    "  X_train.toarray(), y_train,\n",
    "  batch_size=16,\n",
    "  epochs=10, validation_split=0.3, verbose=1,\n",
    ")"
   ]
  }
 ],
 "metadata": {
  "accelerator": "GPU",
  "colab": {
   "collapsed_sections": [
    "8GGTJICN0mho",
    "ojd8KWIq7PLD"
   ],
   "provenance": []
  },
  "gpuClass": "standard",
  "kernelspec": {
   "display_name": "Tensorflow (AI kit)",
   "language": "python",
   "name": "c009-intel_distribution_of_python_3_oneapi-beta05-tf"
  },
  "language_info": {
   "codemirror_mode": {
    "name": "ipython",
    "version": 3
   },
   "file_extension": ".py",
   "mimetype": "text/x-python",
   "name": "python",
   "nbconvert_exporter": "python",
   "pygments_lexer": "ipython3",
   "version": "3.9.15"
  },
  "widgets": {
   "application/vnd.jupyter.widget-state+json": {
    "01fd701a7fc04707874cea0784ef7519": {
     "model_module": "@jupyter-widgets/controls",
     "model_module_version": "1.5.0",
     "model_name": "DescriptionStyleModel",
     "state": {
      "_model_module": "@jupyter-widgets/controls",
      "_model_module_version": "1.5.0",
      "_model_name": "DescriptionStyleModel",
      "_view_count": null,
      "_view_module": "@jupyter-widgets/base",
      "_view_module_version": "1.2.0",
      "_view_name": "StyleView",
      "description_width": ""
     }
    },
    "03d1d6cfc0c34ffda188e85da9d988cd": {
     "model_module": "@jupyter-widgets/controls",
     "model_module_version": "1.5.0",
     "model_name": "HTMLModel",
     "state": {
      "_dom_classes": [],
      "_model_module": "@jupyter-widgets/controls",
      "_model_module_version": "1.5.0",
      "_model_name": "HTMLModel",
      "_view_count": null,
      "_view_module": "@jupyter-widgets/controls",
      "_view_module_version": "1.5.0",
      "_view_name": "HTMLView",
      "description": "",
      "description_tooltip": null,
      "layout": "IPY_MODEL_5efe3a7e587a4e8d8858f1c81a3fa952",
      "placeholder": "​",
      "style": "IPY_MODEL_40fb300c6a474d459dfa456e85f5f94f",
      "value": " 232k/232k [00:00&lt;00:00, 347kB/s]"
     }
    },
    "0e4845d88d554754b610b981287f1e81": {
     "model_module": "@jupyter-widgets/controls",
     "model_module_version": "1.5.0",
     "model_name": "ProgressStyleModel",
     "state": {
      "_model_module": "@jupyter-widgets/controls",
      "_model_module_version": "1.5.0",
      "_model_name": "ProgressStyleModel",
      "_view_count": null,
      "_view_module": "@jupyter-widgets/base",
      "_view_module_version": "1.2.0",
      "_view_name": "StyleView",
      "bar_color": null,
      "description_width": ""
     }
    },
    "11cc06dd6ae34d72a4fcdf05e40c68dc": {
     "model_module": "@jupyter-widgets/base",
     "model_module_version": "1.2.0",
     "model_name": "LayoutModel",
     "state": {
      "_model_module": "@jupyter-widgets/base",
      "_model_module_version": "1.2.0",
      "_model_name": "LayoutModel",
      "_view_count": null,
      "_view_module": "@jupyter-widgets/base",
      "_view_module_version": "1.2.0",
      "_view_name": "LayoutView",
      "align_content": null,
      "align_items": null,
      "align_self": null,
      "border": null,
      "bottom": null,
      "display": null,
      "flex": null,
      "flex_flow": null,
      "grid_area": null,
      "grid_auto_columns": null,
      "grid_auto_flow": null,
      "grid_auto_rows": null,
      "grid_column": null,
      "grid_gap": null,
      "grid_row": null,
      "grid_template_areas": null,
      "grid_template_columns": null,
      "grid_template_rows": null,
      "height": null,
      "justify_content": null,
      "justify_items": null,
      "left": null,
      "margin": null,
      "max_height": null,
      "max_width": null,
      "min_height": null,
      "min_width": null,
      "object_fit": null,
      "object_position": null,
      "order": null,
      "overflow": null,
      "overflow_x": null,
      "overflow_y": null,
      "padding": null,
      "right": null,
      "top": null,
      "visibility": null,
      "width": null
     }
    },
    "12ed1c87689944e381376c142dec7f3c": {
     "model_module": "@jupyter-widgets/controls",
     "model_module_version": "1.5.0",
     "model_name": "HTMLModel",
     "state": {
      "_dom_classes": [],
      "_model_module": "@jupyter-widgets/controls",
      "_model_module_version": "1.5.0",
      "_model_name": "HTMLModel",
      "_view_count": null,
      "_view_module": "@jupyter-widgets/controls",
      "_view_module_version": "1.5.0",
      "_view_name": "HTMLView",
      "description": "",
      "description_tooltip": null,
      "layout": "IPY_MODEL_d2b4cb50fada475abf4707dc482be899",
      "placeholder": "​",
      "style": "IPY_MODEL_51b50becb2604d35b03c5d1c8b0861d6",
      "value": " 536M/536M [00:03&lt;00:00, 112MB/s]"
     }
    },
    "17d665a1adb74ba6a3f6768b6fd168c6": {
     "model_module": "@jupyter-widgets/controls",
     "model_module_version": "1.5.0",
     "model_name": "FloatProgressModel",
     "state": {
      "_dom_classes": [],
      "_model_module": "@jupyter-widgets/controls",
      "_model_module_version": "1.5.0",
      "_model_name": "FloatProgressModel",
      "_view_count": null,
      "_view_module": "@jupyter-widgets/controls",
      "_view_module_version": "1.5.0",
      "_view_name": "ProgressView",
      "bar_style": "success",
      "description": "",
      "description_tooltip": null,
      "layout": "IPY_MODEL_f67b9325c7c54ea5ab5b5b9a6407bab0",
      "max": 536063208,
      "min": 0,
      "orientation": "horizontal",
      "style": "IPY_MODEL_0e4845d88d554754b610b981287f1e81",
      "value": 536063208
     }
    },
    "29db305c4ac44ea2a575d65903eb0c5e": {
     "model_module": "@jupyter-widgets/controls",
     "model_module_version": "1.5.0",
     "model_name": "HTMLModel",
     "state": {
      "_dom_classes": [],
      "_model_module": "@jupyter-widgets/controls",
      "_model_module_version": "1.5.0",
      "_model_name": "HTMLModel",
      "_view_count": null,
      "_view_module": "@jupyter-widgets/controls",
      "_view_module_version": "1.5.0",
      "_view_name": "HTMLView",
      "description": "",
      "description_tooltip": null,
      "layout": "IPY_MODEL_b3303100b7524df192dfa177673f0bb6",
      "placeholder": "​",
      "style": "IPY_MODEL_9ddceab0c5c84626987a2c725867f88d",
      "value": "Downloading (…)solve/main/vocab.txt: 100%"
     }
    },
    "32e7e52742514fedb91b68f2eee8e1e7": {
     "model_module": "@jupyter-widgets/controls",
     "model_module_version": "1.5.0",
     "model_name": "DescriptionStyleModel",
     "state": {
      "_model_module": "@jupyter-widgets/controls",
      "_model_module_version": "1.5.0",
      "_model_name": "DescriptionStyleModel",
      "_view_count": null,
      "_view_module": "@jupyter-widgets/base",
      "_view_module_version": "1.2.0",
      "_view_name": "StyleView",
      "description_width": ""
     }
    },
    "333ab33677db463894391789d6124f91": {
     "model_module": "@jupyter-widgets/controls",
     "model_module_version": "1.5.0",
     "model_name": "DescriptionStyleModel",
     "state": {
      "_model_module": "@jupyter-widgets/controls",
      "_model_module_version": "1.5.0",
      "_model_name": "DescriptionStyleModel",
      "_view_count": null,
      "_view_module": "@jupyter-widgets/base",
      "_view_module_version": "1.2.0",
      "_view_name": "StyleView",
      "description_width": ""
     }
    },
    "35e390432d6e4c2b81c90ee4dbf678c1": {
     "model_module": "@jupyter-widgets/controls",
     "model_module_version": "1.5.0",
     "model_name": "HTMLModel",
     "state": {
      "_dom_classes": [],
      "_model_module": "@jupyter-widgets/controls",
      "_model_module_version": "1.5.0",
      "_model_name": "HTMLModel",
      "_view_count": null,
      "_view_module": "@jupyter-widgets/controls",
      "_view_module_version": "1.5.0",
      "_view_name": "HTMLView",
      "description": "",
      "description_tooltip": null,
      "layout": "IPY_MODEL_4eb96f047f054c3faa4e1d22859d98f0",
      "placeholder": "​",
      "style": "IPY_MODEL_c9c50de5dd554e3e914707901dd884e8",
      "value": "Downloading (…)lve/main/config.json: 100%"
     }
    },
    "3b0ee81ab4d94079bd3ce3e4932d916b": {
     "model_module": "@jupyter-widgets/base",
     "model_module_version": "1.2.0",
     "model_name": "LayoutModel",
     "state": {
      "_model_module": "@jupyter-widgets/base",
      "_model_module_version": "1.2.0",
      "_model_name": "LayoutModel",
      "_view_count": null,
      "_view_module": "@jupyter-widgets/base",
      "_view_module_version": "1.2.0",
      "_view_name": "LayoutView",
      "align_content": null,
      "align_items": null,
      "align_self": null,
      "border": null,
      "bottom": null,
      "display": null,
      "flex": null,
      "flex_flow": null,
      "grid_area": null,
      "grid_auto_columns": null,
      "grid_auto_flow": null,
      "grid_auto_rows": null,
      "grid_column": null,
      "grid_gap": null,
      "grid_row": null,
      "grid_template_areas": null,
      "grid_template_columns": null,
      "grid_template_rows": null,
      "height": null,
      "justify_content": null,
      "justify_items": null,
      "left": null,
      "margin": null,
      "max_height": null,
      "max_width": null,
      "min_height": null,
      "min_width": null,
      "object_fit": null,
      "object_position": null,
      "order": null,
      "overflow": null,
      "overflow_x": null,
      "overflow_y": null,
      "padding": null,
      "right": null,
      "top": null,
      "visibility": null,
      "width": null
     }
    },
    "3f8e81bb6384413c94f4c131807d8197": {
     "model_module": "@jupyter-widgets/base",
     "model_module_version": "1.2.0",
     "model_name": "LayoutModel",
     "state": {
      "_model_module": "@jupyter-widgets/base",
      "_model_module_version": "1.2.0",
      "_model_name": "LayoutModel",
      "_view_count": null,
      "_view_module": "@jupyter-widgets/base",
      "_view_module_version": "1.2.0",
      "_view_name": "LayoutView",
      "align_content": null,
      "align_items": null,
      "align_self": null,
      "border": null,
      "bottom": null,
      "display": null,
      "flex": null,
      "flex_flow": null,
      "grid_area": null,
      "grid_auto_columns": null,
      "grid_auto_flow": null,
      "grid_auto_rows": null,
      "grid_column": null,
      "grid_gap": null,
      "grid_row": null,
      "grid_template_areas": null,
      "grid_template_columns": null,
      "grid_template_rows": null,
      "height": null,
      "justify_content": null,
      "justify_items": null,
      "left": null,
      "margin": null,
      "max_height": null,
      "max_width": null,
      "min_height": null,
      "min_width": null,
      "object_fit": null,
      "object_position": null,
      "order": null,
      "overflow": null,
      "overflow_x": null,
      "overflow_y": null,
      "padding": null,
      "right": null,
      "top": null,
      "visibility": null,
      "width": null
     }
    },
    "40618564ac43446781f718304f930c16": {
     "model_module": "@jupyter-widgets/controls",
     "model_module_version": "1.5.0",
     "model_name": "ProgressStyleModel",
     "state": {
      "_model_module": "@jupyter-widgets/controls",
      "_model_module_version": "1.5.0",
      "_model_name": "ProgressStyleModel",
      "_view_count": null,
      "_view_module": "@jupyter-widgets/base",
      "_view_module_version": "1.2.0",
      "_view_name": "StyleView",
      "bar_color": null,
      "description_width": ""
     }
    },
    "40fb300c6a474d459dfa456e85f5f94f": {
     "model_module": "@jupyter-widgets/controls",
     "model_module_version": "1.5.0",
     "model_name": "DescriptionStyleModel",
     "state": {
      "_model_module": "@jupyter-widgets/controls",
      "_model_module_version": "1.5.0",
      "_model_name": "DescriptionStyleModel",
      "_view_count": null,
      "_view_module": "@jupyter-widgets/base",
      "_view_module_version": "1.2.0",
      "_view_name": "StyleView",
      "description_width": ""
     }
    },
    "4eb96f047f054c3faa4e1d22859d98f0": {
     "model_module": "@jupyter-widgets/base",
     "model_module_version": "1.2.0",
     "model_name": "LayoutModel",
     "state": {
      "_model_module": "@jupyter-widgets/base",
      "_model_module_version": "1.2.0",
      "_model_name": "LayoutModel",
      "_view_count": null,
      "_view_module": "@jupyter-widgets/base",
      "_view_module_version": "1.2.0",
      "_view_name": "LayoutView",
      "align_content": null,
      "align_items": null,
      "align_self": null,
      "border": null,
      "bottom": null,
      "display": null,
      "flex": null,
      "flex_flow": null,
      "grid_area": null,
      "grid_auto_columns": null,
      "grid_auto_flow": null,
      "grid_auto_rows": null,
      "grid_column": null,
      "grid_gap": null,
      "grid_row": null,
      "grid_template_areas": null,
      "grid_template_columns": null,
      "grid_template_rows": null,
      "height": null,
      "justify_content": null,
      "justify_items": null,
      "left": null,
      "margin": null,
      "max_height": null,
      "max_width": null,
      "min_height": null,
      "min_width": null,
      "object_fit": null,
      "object_position": null,
      "order": null,
      "overflow": null,
      "overflow_x": null,
      "overflow_y": null,
      "padding": null,
      "right": null,
      "top": null,
      "visibility": null,
      "width": null
     }
    },
    "51b50becb2604d35b03c5d1c8b0861d6": {
     "model_module": "@jupyter-widgets/controls",
     "model_module_version": "1.5.0",
     "model_name": "DescriptionStyleModel",
     "state": {
      "_model_module": "@jupyter-widgets/controls",
      "_model_module_version": "1.5.0",
      "_model_name": "DescriptionStyleModel",
      "_view_count": null,
      "_view_module": "@jupyter-widgets/base",
      "_view_module_version": "1.2.0",
      "_view_name": "StyleView",
      "description_width": ""
     }
    },
    "551e9d8fffbc4522ad43065fd60e7bd9": {
     "model_module": "@jupyter-widgets/base",
     "model_module_version": "1.2.0",
     "model_name": "LayoutModel",
     "state": {
      "_model_module": "@jupyter-widgets/base",
      "_model_module_version": "1.2.0",
      "_model_name": "LayoutModel",
      "_view_count": null,
      "_view_module": "@jupyter-widgets/base",
      "_view_module_version": "1.2.0",
      "_view_name": "LayoutView",
      "align_content": null,
      "align_items": null,
      "align_self": null,
      "border": null,
      "bottom": null,
      "display": null,
      "flex": null,
      "flex_flow": null,
      "grid_area": null,
      "grid_auto_columns": null,
      "grid_auto_flow": null,
      "grid_auto_rows": null,
      "grid_column": null,
      "grid_gap": null,
      "grid_row": null,
      "grid_template_areas": null,
      "grid_template_columns": null,
      "grid_template_rows": null,
      "height": null,
      "justify_content": null,
      "justify_items": null,
      "left": null,
      "margin": null,
      "max_height": null,
      "max_width": null,
      "min_height": null,
      "min_width": null,
      "object_fit": null,
      "object_position": null,
      "order": null,
      "overflow": null,
      "overflow_x": null,
      "overflow_y": null,
      "padding": null,
      "right": null,
      "top": null,
      "visibility": null,
      "width": null
     }
    },
    "5efe3a7e587a4e8d8858f1c81a3fa952": {
     "model_module": "@jupyter-widgets/base",
     "model_module_version": "1.2.0",
     "model_name": "LayoutModel",
     "state": {
      "_model_module": "@jupyter-widgets/base",
      "_model_module_version": "1.2.0",
      "_model_name": "LayoutModel",
      "_view_count": null,
      "_view_module": "@jupyter-widgets/base",
      "_view_module_version": "1.2.0",
      "_view_name": "LayoutView",
      "align_content": null,
      "align_items": null,
      "align_self": null,
      "border": null,
      "bottom": null,
      "display": null,
      "flex": null,
      "flex_flow": null,
      "grid_area": null,
      "grid_auto_columns": null,
      "grid_auto_flow": null,
      "grid_auto_rows": null,
      "grid_column": null,
      "grid_gap": null,
      "grid_row": null,
      "grid_template_areas": null,
      "grid_template_columns": null,
      "grid_template_rows": null,
      "height": null,
      "justify_content": null,
      "justify_items": null,
      "left": null,
      "margin": null,
      "max_height": null,
      "max_width": null,
      "min_height": null,
      "min_width": null,
      "object_fit": null,
      "object_position": null,
      "order": null,
      "overflow": null,
      "overflow_x": null,
      "overflow_y": null,
      "padding": null,
      "right": null,
      "top": null,
      "visibility": null,
      "width": null
     }
    },
    "6448976a6ea448f697743be7d9e900a8": {
     "model_module": "@jupyter-widgets/controls",
     "model_module_version": "1.5.0",
     "model_name": "HBoxModel",
     "state": {
      "_dom_classes": [],
      "_model_module": "@jupyter-widgets/controls",
      "_model_module_version": "1.5.0",
      "_model_name": "HBoxModel",
      "_view_count": null,
      "_view_module": "@jupyter-widgets/controls",
      "_view_module_version": "1.5.0",
      "_view_name": "HBoxView",
      "box_style": "",
      "children": [
       "IPY_MODEL_29db305c4ac44ea2a575d65903eb0c5e",
       "IPY_MODEL_c424e53f0c3b43539602289c5f3e3e44",
       "IPY_MODEL_03d1d6cfc0c34ffda188e85da9d988cd"
      ],
      "layout": "IPY_MODEL_3f8e81bb6384413c94f4c131807d8197"
     }
    },
    "699b16a06e3e4c6d92951037aa12fdc0": {
     "model_module": "@jupyter-widgets/controls",
     "model_module_version": "1.5.0",
     "model_name": "HTMLModel",
     "state": {
      "_dom_classes": [],
      "_model_module": "@jupyter-widgets/controls",
      "_model_module_version": "1.5.0",
      "_model_name": "HTMLModel",
      "_view_count": null,
      "_view_module": "@jupyter-widgets/controls",
      "_view_module_version": "1.5.0",
      "_view_name": "HTMLView",
      "description": "",
      "description_tooltip": null,
      "layout": "IPY_MODEL_551e9d8fffbc4522ad43065fd60e7bd9",
      "placeholder": "​",
      "style": "IPY_MODEL_01fd701a7fc04707874cea0784ef7519",
      "value": " 28.0/28.0 [00:00&lt;00:00, 1.45kB/s]"
     }
    },
    "6e177a1ed2dd4609aac4986cd7896b7d": {
     "model_module": "@jupyter-widgets/base",
     "model_module_version": "1.2.0",
     "model_name": "LayoutModel",
     "state": {
      "_model_module": "@jupyter-widgets/base",
      "_model_module_version": "1.2.0",
      "_model_name": "LayoutModel",
      "_view_count": null,
      "_view_module": "@jupyter-widgets/base",
      "_view_module_version": "1.2.0",
      "_view_name": "LayoutView",
      "align_content": null,
      "align_items": null,
      "align_self": null,
      "border": null,
      "bottom": null,
      "display": null,
      "flex": null,
      "flex_flow": null,
      "grid_area": null,
      "grid_auto_columns": null,
      "grid_auto_flow": null,
      "grid_auto_rows": null,
      "grid_column": null,
      "grid_gap": null,
      "grid_row": null,
      "grid_template_areas": null,
      "grid_template_columns": null,
      "grid_template_rows": null,
      "height": null,
      "justify_content": null,
      "justify_items": null,
      "left": null,
      "margin": null,
      "max_height": null,
      "max_width": null,
      "min_height": null,
      "min_width": null,
      "object_fit": null,
      "object_position": null,
      "order": null,
      "overflow": null,
      "overflow_x": null,
      "overflow_y": null,
      "padding": null,
      "right": null,
      "top": null,
      "visibility": null,
      "width": null
     }
    },
    "8e79c2ca9d484758b63dc222417be5da": {
     "model_module": "@jupyter-widgets/base",
     "model_module_version": "1.2.0",
     "model_name": "LayoutModel",
     "state": {
      "_model_module": "@jupyter-widgets/base",
      "_model_module_version": "1.2.0",
      "_model_name": "LayoutModel",
      "_view_count": null,
      "_view_module": "@jupyter-widgets/base",
      "_view_module_version": "1.2.0",
      "_view_name": "LayoutView",
      "align_content": null,
      "align_items": null,
      "align_self": null,
      "border": null,
      "bottom": null,
      "display": null,
      "flex": null,
      "flex_flow": null,
      "grid_area": null,
      "grid_auto_columns": null,
      "grid_auto_flow": null,
      "grid_auto_rows": null,
      "grid_column": null,
      "grid_gap": null,
      "grid_row": null,
      "grid_template_areas": null,
      "grid_template_columns": null,
      "grid_template_rows": null,
      "height": null,
      "justify_content": null,
      "justify_items": null,
      "left": null,
      "margin": null,
      "max_height": null,
      "max_width": null,
      "min_height": null,
      "min_width": null,
      "object_fit": null,
      "object_position": null,
      "order": null,
      "overflow": null,
      "overflow_x": null,
      "overflow_y": null,
      "padding": null,
      "right": null,
      "top": null,
      "visibility": null,
      "width": null
     }
    },
    "8ece9d58ffe340c9a19a77eb87f6d349": {
     "model_module": "@jupyter-widgets/controls",
     "model_module_version": "1.5.0",
     "model_name": "HBoxModel",
     "state": {
      "_dom_classes": [],
      "_model_module": "@jupyter-widgets/controls",
      "_model_module_version": "1.5.0",
      "_model_name": "HBoxModel",
      "_view_count": null,
      "_view_module": "@jupyter-widgets/controls",
      "_view_module_version": "1.5.0",
      "_view_name": "HBoxView",
      "box_style": "",
      "children": [
       "IPY_MODEL_cfc6d4e977734f59b428dfb177c371dd",
       "IPY_MODEL_17d665a1adb74ba6a3f6768b6fd168c6",
       "IPY_MODEL_12ed1c87689944e381376c142dec7f3c"
      ],
      "layout": "IPY_MODEL_11cc06dd6ae34d72a4fcdf05e40c68dc"
     }
    },
    "960dd436c0684298af69937b64adefe8": {
     "model_module": "@jupyter-widgets/controls",
     "model_module_version": "1.5.0",
     "model_name": "HTMLModel",
     "state": {
      "_dom_classes": [],
      "_model_module": "@jupyter-widgets/controls",
      "_model_module_version": "1.5.0",
      "_model_name": "HTMLModel",
      "_view_count": null,
      "_view_module": "@jupyter-widgets/controls",
      "_view_module_version": "1.5.0",
      "_view_name": "HTMLView",
      "description": "",
      "description_tooltip": null,
      "layout": "IPY_MODEL_3b0ee81ab4d94079bd3ce3e4932d916b",
      "placeholder": "​",
      "style": "IPY_MODEL_32e7e52742514fedb91b68f2eee8e1e7",
      "value": "Downloading (…)okenizer_config.json: 100%"
     }
    },
    "9799bc06389c4574a90ba6fd6f99ff97": {
     "model_module": "@jupyter-widgets/controls",
     "model_module_version": "1.5.0",
     "model_name": "ProgressStyleModel",
     "state": {
      "_model_module": "@jupyter-widgets/controls",
      "_model_module_version": "1.5.0",
      "_model_name": "ProgressStyleModel",
      "_view_count": null,
      "_view_module": "@jupyter-widgets/base",
      "_view_module_version": "1.2.0",
      "_view_name": "StyleView",
      "bar_color": null,
      "description_width": ""
     }
    },
    "9ddceab0c5c84626987a2c725867f88d": {
     "model_module": "@jupyter-widgets/controls",
     "model_module_version": "1.5.0",
     "model_name": "DescriptionStyleModel",
     "state": {
      "_model_module": "@jupyter-widgets/controls",
      "_model_module_version": "1.5.0",
      "_model_name": "DescriptionStyleModel",
      "_view_count": null,
      "_view_module": "@jupyter-widgets/base",
      "_view_module_version": "1.2.0",
      "_view_name": "StyleView",
      "description_width": ""
     }
    },
    "a1aa823b7a4440fb8fa571c9eca72e57": {
     "model_module": "@jupyter-widgets/base",
     "model_module_version": "1.2.0",
     "model_name": "LayoutModel",
     "state": {
      "_model_module": "@jupyter-widgets/base",
      "_model_module_version": "1.2.0",
      "_model_name": "LayoutModel",
      "_view_count": null,
      "_view_module": "@jupyter-widgets/base",
      "_view_module_version": "1.2.0",
      "_view_name": "LayoutView",
      "align_content": null,
      "align_items": null,
      "align_self": null,
      "border": null,
      "bottom": null,
      "display": null,
      "flex": null,
      "flex_flow": null,
      "grid_area": null,
      "grid_auto_columns": null,
      "grid_auto_flow": null,
      "grid_auto_rows": null,
      "grid_column": null,
      "grid_gap": null,
      "grid_row": null,
      "grid_template_areas": null,
      "grid_template_columns": null,
      "grid_template_rows": null,
      "height": null,
      "justify_content": null,
      "justify_items": null,
      "left": null,
      "margin": null,
      "max_height": null,
      "max_width": null,
      "min_height": null,
      "min_width": null,
      "object_fit": null,
      "object_position": null,
      "order": null,
      "overflow": null,
      "overflow_x": null,
      "overflow_y": null,
      "padding": null,
      "right": null,
      "top": null,
      "visibility": null,
      "width": null
     }
    },
    "a1ede5cf9de24c36b1b3331e14cb7ad6": {
     "model_module": "@jupyter-widgets/controls",
     "model_module_version": "1.5.0",
     "model_name": "FloatProgressModel",
     "state": {
      "_dom_classes": [],
      "_model_module": "@jupyter-widgets/controls",
      "_model_module_version": "1.5.0",
      "_model_name": "FloatProgressModel",
      "_view_count": null,
      "_view_module": "@jupyter-widgets/controls",
      "_view_module_version": "1.5.0",
      "_view_name": "ProgressView",
      "bar_style": "success",
      "description": "",
      "description_tooltip": null,
      "layout": "IPY_MODEL_c4e070d56847462593e13cc21fdf7334",
      "max": 28,
      "min": 0,
      "orientation": "horizontal",
      "style": "IPY_MODEL_b92c9a58c47e4b5cb6cda85c18291e49",
      "value": 28
     }
    },
    "ad57e5e514de40cbbd7db1b5e08c98f0": {
     "model_module": "@jupyter-widgets/controls",
     "model_module_version": "1.5.0",
     "model_name": "DescriptionStyleModel",
     "state": {
      "_model_module": "@jupyter-widgets/controls",
      "_model_module_version": "1.5.0",
      "_model_name": "DescriptionStyleModel",
      "_view_count": null,
      "_view_module": "@jupyter-widgets/base",
      "_view_module_version": "1.2.0",
      "_view_name": "StyleView",
      "description_width": ""
     }
    },
    "b3303100b7524df192dfa177673f0bb6": {
     "model_module": "@jupyter-widgets/base",
     "model_module_version": "1.2.0",
     "model_name": "LayoutModel",
     "state": {
      "_model_module": "@jupyter-widgets/base",
      "_model_module_version": "1.2.0",
      "_model_name": "LayoutModel",
      "_view_count": null,
      "_view_module": "@jupyter-widgets/base",
      "_view_module_version": "1.2.0",
      "_view_name": "LayoutView",
      "align_content": null,
      "align_items": null,
      "align_self": null,
      "border": null,
      "bottom": null,
      "display": null,
      "flex": null,
      "flex_flow": null,
      "grid_area": null,
      "grid_auto_columns": null,
      "grid_auto_flow": null,
      "grid_auto_rows": null,
      "grid_column": null,
      "grid_gap": null,
      "grid_row": null,
      "grid_template_areas": null,
      "grid_template_columns": null,
      "grid_template_rows": null,
      "height": null,
      "justify_content": null,
      "justify_items": null,
      "left": null,
      "margin": null,
      "max_height": null,
      "max_width": null,
      "min_height": null,
      "min_width": null,
      "object_fit": null,
      "object_position": null,
      "order": null,
      "overflow": null,
      "overflow_x": null,
      "overflow_y": null,
      "padding": null,
      "right": null,
      "top": null,
      "visibility": null,
      "width": null
     }
    },
    "b3f340960a9347969122ff82b2eed3e6": {
     "model_module": "@jupyter-widgets/base",
     "model_module_version": "1.2.0",
     "model_name": "LayoutModel",
     "state": {
      "_model_module": "@jupyter-widgets/base",
      "_model_module_version": "1.2.0",
      "_model_name": "LayoutModel",
      "_view_count": null,
      "_view_module": "@jupyter-widgets/base",
      "_view_module_version": "1.2.0",
      "_view_name": "LayoutView",
      "align_content": null,
      "align_items": null,
      "align_self": null,
      "border": null,
      "bottom": null,
      "display": null,
      "flex": null,
      "flex_flow": null,
      "grid_area": null,
      "grid_auto_columns": null,
      "grid_auto_flow": null,
      "grid_auto_rows": null,
      "grid_column": null,
      "grid_gap": null,
      "grid_row": null,
      "grid_template_areas": null,
      "grid_template_columns": null,
      "grid_template_rows": null,
      "height": null,
      "justify_content": null,
      "justify_items": null,
      "left": null,
      "margin": null,
      "max_height": null,
      "max_width": null,
      "min_height": null,
      "min_width": null,
      "object_fit": null,
      "object_position": null,
      "order": null,
      "overflow": null,
      "overflow_x": null,
      "overflow_y": null,
      "padding": null,
      "right": null,
      "top": null,
      "visibility": null,
      "width": null
     }
    },
    "b92c9a58c47e4b5cb6cda85c18291e49": {
     "model_module": "@jupyter-widgets/controls",
     "model_module_version": "1.5.0",
     "model_name": "ProgressStyleModel",
     "state": {
      "_model_module": "@jupyter-widgets/controls",
      "_model_module_version": "1.5.0",
      "_model_name": "ProgressStyleModel",
      "_view_count": null,
      "_view_module": "@jupyter-widgets/base",
      "_view_module_version": "1.2.0",
      "_view_name": "StyleView",
      "bar_color": null,
      "description_width": ""
     }
    },
    "c381b9d1128c4c5f8de86a67a2997916": {
     "model_module": "@jupyter-widgets/controls",
     "model_module_version": "1.5.0",
     "model_name": "HBoxModel",
     "state": {
      "_dom_classes": [],
      "_model_module": "@jupyter-widgets/controls",
      "_model_module_version": "1.5.0",
      "_model_name": "HBoxModel",
      "_view_count": null,
      "_view_module": "@jupyter-widgets/controls",
      "_view_module_version": "1.5.0",
      "_view_name": "HBoxView",
      "box_style": "",
      "children": [
       "IPY_MODEL_960dd436c0684298af69937b64adefe8",
       "IPY_MODEL_a1ede5cf9de24c36b1b3331e14cb7ad6",
       "IPY_MODEL_699b16a06e3e4c6d92951037aa12fdc0"
      ],
      "layout": "IPY_MODEL_f45be4bc3f134ae3a6808274e68d11c4"
     }
    },
    "c424e53f0c3b43539602289c5f3e3e44": {
     "model_module": "@jupyter-widgets/controls",
     "model_module_version": "1.5.0",
     "model_name": "FloatProgressModel",
     "state": {
      "_dom_classes": [],
      "_model_module": "@jupyter-widgets/controls",
      "_model_module_version": "1.5.0",
      "_model_name": "FloatProgressModel",
      "_view_count": null,
      "_view_module": "@jupyter-widgets/controls",
      "_view_module_version": "1.5.0",
      "_view_name": "ProgressView",
      "bar_style": "success",
      "description": "",
      "description_tooltip": null,
      "layout": "IPY_MODEL_d424e522a585457e8ebaed5b9771902d",
      "max": 231508,
      "min": 0,
      "orientation": "horizontal",
      "style": "IPY_MODEL_40618564ac43446781f718304f930c16",
      "value": 231508
     }
    },
    "c4e070d56847462593e13cc21fdf7334": {
     "model_module": "@jupyter-widgets/base",
     "model_module_version": "1.2.0",
     "model_name": "LayoutModel",
     "state": {
      "_model_module": "@jupyter-widgets/base",
      "_model_module_version": "1.2.0",
      "_model_name": "LayoutModel",
      "_view_count": null,
      "_view_module": "@jupyter-widgets/base",
      "_view_module_version": "1.2.0",
      "_view_name": "LayoutView",
      "align_content": null,
      "align_items": null,
      "align_self": null,
      "border": null,
      "bottom": null,
      "display": null,
      "flex": null,
      "flex_flow": null,
      "grid_area": null,
      "grid_auto_columns": null,
      "grid_auto_flow": null,
      "grid_auto_rows": null,
      "grid_column": null,
      "grid_gap": null,
      "grid_row": null,
      "grid_template_areas": null,
      "grid_template_columns": null,
      "grid_template_rows": null,
      "height": null,
      "justify_content": null,
      "justify_items": null,
      "left": null,
      "margin": null,
      "max_height": null,
      "max_width": null,
      "min_height": null,
      "min_width": null,
      "object_fit": null,
      "object_position": null,
      "order": null,
      "overflow": null,
      "overflow_x": null,
      "overflow_y": null,
      "padding": null,
      "right": null,
      "top": null,
      "visibility": null,
      "width": null
     }
    },
    "c91f758acae749b591dcb3eefcfcfc80": {
     "model_module": "@jupyter-widgets/controls",
     "model_module_version": "1.5.0",
     "model_name": "FloatProgressModel",
     "state": {
      "_dom_classes": [],
      "_model_module": "@jupyter-widgets/controls",
      "_model_module_version": "1.5.0",
      "_model_name": "FloatProgressModel",
      "_view_count": null,
      "_view_module": "@jupyter-widgets/controls",
      "_view_module_version": "1.5.0",
      "_view_name": "ProgressView",
      "bar_style": "success",
      "description": "",
      "description_tooltip": null,
      "layout": "IPY_MODEL_a1aa823b7a4440fb8fa571c9eca72e57",
      "max": 570,
      "min": 0,
      "orientation": "horizontal",
      "style": "IPY_MODEL_9799bc06389c4574a90ba6fd6f99ff97",
      "value": 570
     }
    },
    "c9c50de5dd554e3e914707901dd884e8": {
     "model_module": "@jupyter-widgets/controls",
     "model_module_version": "1.5.0",
     "model_name": "DescriptionStyleModel",
     "state": {
      "_model_module": "@jupyter-widgets/controls",
      "_model_module_version": "1.5.0",
      "_model_name": "DescriptionStyleModel",
      "_view_count": null,
      "_view_module": "@jupyter-widgets/base",
      "_view_module_version": "1.2.0",
      "_view_name": "StyleView",
      "description_width": ""
     }
    },
    "cfc6d4e977734f59b428dfb177c371dd": {
     "model_module": "@jupyter-widgets/controls",
     "model_module_version": "1.5.0",
     "model_name": "HTMLModel",
     "state": {
      "_dom_classes": [],
      "_model_module": "@jupyter-widgets/controls",
      "_model_module_version": "1.5.0",
      "_model_name": "HTMLModel",
      "_view_count": null,
      "_view_module": "@jupyter-widgets/controls",
      "_view_module_version": "1.5.0",
      "_view_name": "HTMLView",
      "description": "",
      "description_tooltip": null,
      "layout": "IPY_MODEL_8e79c2ca9d484758b63dc222417be5da",
      "placeholder": "​",
      "style": "IPY_MODEL_ad57e5e514de40cbbd7db1b5e08c98f0",
      "value": "Downloading tf_model.h5: 100%"
     }
    },
    "d2b4cb50fada475abf4707dc482be899": {
     "model_module": "@jupyter-widgets/base",
     "model_module_version": "1.2.0",
     "model_name": "LayoutModel",
     "state": {
      "_model_module": "@jupyter-widgets/base",
      "_model_module_version": "1.2.0",
      "_model_name": "LayoutModel",
      "_view_count": null,
      "_view_module": "@jupyter-widgets/base",
      "_view_module_version": "1.2.0",
      "_view_name": "LayoutView",
      "align_content": null,
      "align_items": null,
      "align_self": null,
      "border": null,
      "bottom": null,
      "display": null,
      "flex": null,
      "flex_flow": null,
      "grid_area": null,
      "grid_auto_columns": null,
      "grid_auto_flow": null,
      "grid_auto_rows": null,
      "grid_column": null,
      "grid_gap": null,
      "grid_row": null,
      "grid_template_areas": null,
      "grid_template_columns": null,
      "grid_template_rows": null,
      "height": null,
      "justify_content": null,
      "justify_items": null,
      "left": null,
      "margin": null,
      "max_height": null,
      "max_width": null,
      "min_height": null,
      "min_width": null,
      "object_fit": null,
      "object_position": null,
      "order": null,
      "overflow": null,
      "overflow_x": null,
      "overflow_y": null,
      "padding": null,
      "right": null,
      "top": null,
      "visibility": null,
      "width": null
     }
    },
    "d424e522a585457e8ebaed5b9771902d": {
     "model_module": "@jupyter-widgets/base",
     "model_module_version": "1.2.0",
     "model_name": "LayoutModel",
     "state": {
      "_model_module": "@jupyter-widgets/base",
      "_model_module_version": "1.2.0",
      "_model_name": "LayoutModel",
      "_view_count": null,
      "_view_module": "@jupyter-widgets/base",
      "_view_module_version": "1.2.0",
      "_view_name": "LayoutView",
      "align_content": null,
      "align_items": null,
      "align_self": null,
      "border": null,
      "bottom": null,
      "display": null,
      "flex": null,
      "flex_flow": null,
      "grid_area": null,
      "grid_auto_columns": null,
      "grid_auto_flow": null,
      "grid_auto_rows": null,
      "grid_column": null,
      "grid_gap": null,
      "grid_row": null,
      "grid_template_areas": null,
      "grid_template_columns": null,
      "grid_template_rows": null,
      "height": null,
      "justify_content": null,
      "justify_items": null,
      "left": null,
      "margin": null,
      "max_height": null,
      "max_width": null,
      "min_height": null,
      "min_width": null,
      "object_fit": null,
      "object_position": null,
      "order": null,
      "overflow": null,
      "overflow_x": null,
      "overflow_y": null,
      "padding": null,
      "right": null,
      "top": null,
      "visibility": null,
      "width": null
     }
    },
    "da99a7a316cf4678a6f256c0e318134f": {
     "model_module": "@jupyter-widgets/controls",
     "model_module_version": "1.5.0",
     "model_name": "HTMLModel",
     "state": {
      "_dom_classes": [],
      "_model_module": "@jupyter-widgets/controls",
      "_model_module_version": "1.5.0",
      "_model_name": "HTMLModel",
      "_view_count": null,
      "_view_module": "@jupyter-widgets/controls",
      "_view_module_version": "1.5.0",
      "_view_name": "HTMLView",
      "description": "",
      "description_tooltip": null,
      "layout": "IPY_MODEL_6e177a1ed2dd4609aac4986cd7896b7d",
      "placeholder": "​",
      "style": "IPY_MODEL_333ab33677db463894391789d6124f91",
      "value": " 570/570 [00:00&lt;00:00, 15.7kB/s]"
     }
    },
    "eacba7aa85f649939384f5476ae5625f": {
     "model_module": "@jupyter-widgets/controls",
     "model_module_version": "1.5.0",
     "model_name": "HBoxModel",
     "state": {
      "_dom_classes": [],
      "_model_module": "@jupyter-widgets/controls",
      "_model_module_version": "1.5.0",
      "_model_name": "HBoxModel",
      "_view_count": null,
      "_view_module": "@jupyter-widgets/controls",
      "_view_module_version": "1.5.0",
      "_view_name": "HBoxView",
      "box_style": "",
      "children": [
       "IPY_MODEL_35e390432d6e4c2b81c90ee4dbf678c1",
       "IPY_MODEL_c91f758acae749b591dcb3eefcfcfc80",
       "IPY_MODEL_da99a7a316cf4678a6f256c0e318134f"
      ],
      "layout": "IPY_MODEL_b3f340960a9347969122ff82b2eed3e6"
     }
    },
    "f45be4bc3f134ae3a6808274e68d11c4": {
     "model_module": "@jupyter-widgets/base",
     "model_module_version": "1.2.0",
     "model_name": "LayoutModel",
     "state": {
      "_model_module": "@jupyter-widgets/base",
      "_model_module_version": "1.2.0",
      "_model_name": "LayoutModel",
      "_view_count": null,
      "_view_module": "@jupyter-widgets/base",
      "_view_module_version": "1.2.0",
      "_view_name": "LayoutView",
      "align_content": null,
      "align_items": null,
      "align_self": null,
      "border": null,
      "bottom": null,
      "display": null,
      "flex": null,
      "flex_flow": null,
      "grid_area": null,
      "grid_auto_columns": null,
      "grid_auto_flow": null,
      "grid_auto_rows": null,
      "grid_column": null,
      "grid_gap": null,
      "grid_row": null,
      "grid_template_areas": null,
      "grid_template_columns": null,
      "grid_template_rows": null,
      "height": null,
      "justify_content": null,
      "justify_items": null,
      "left": null,
      "margin": null,
      "max_height": null,
      "max_width": null,
      "min_height": null,
      "min_width": null,
      "object_fit": null,
      "object_position": null,
      "order": null,
      "overflow": null,
      "overflow_x": null,
      "overflow_y": null,
      "padding": null,
      "right": null,
      "top": null,
      "visibility": null,
      "width": null
     }
    },
    "f67b9325c7c54ea5ab5b5b9a6407bab0": {
     "model_module": "@jupyter-widgets/base",
     "model_module_version": "1.2.0",
     "model_name": "LayoutModel",
     "state": {
      "_model_module": "@jupyter-widgets/base",
      "_model_module_version": "1.2.0",
      "_model_name": "LayoutModel",
      "_view_count": null,
      "_view_module": "@jupyter-widgets/base",
      "_view_module_version": "1.2.0",
      "_view_name": "LayoutView",
      "align_content": null,
      "align_items": null,
      "align_self": null,
      "border": null,
      "bottom": null,
      "display": null,
      "flex": null,
      "flex_flow": null,
      "grid_area": null,
      "grid_auto_columns": null,
      "grid_auto_flow": null,
      "grid_auto_rows": null,
      "grid_column": null,
      "grid_gap": null,
      "grid_row": null,
      "grid_template_areas": null,
      "grid_template_columns": null,
      "grid_template_rows": null,
      "height": null,
      "justify_content": null,
      "justify_items": null,
      "left": null,
      "margin": null,
      "max_height": null,
      "max_width": null,
      "min_height": null,
      "min_width": null,
      "object_fit": null,
      "object_position": null,
      "order": null,
      "overflow": null,
      "overflow_x": null,
      "overflow_y": null,
      "padding": null,
      "right": null,
      "top": null,
      "visibility": null,
      "width": null
     }
    }
   }
  }
 },
 "nbformat": 4,
 "nbformat_minor": 4
}
